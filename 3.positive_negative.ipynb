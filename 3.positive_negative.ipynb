{
 "cells": [
  {
   "cell_type": "code",
   "execution_count": 2,
   "id": "d9d80f48-8045-46a0-8692-ed4e8640e792",
   "metadata": {},
   "outputs": [
    {
     "name": "stdout",
     "output_type": "stream",
     "text": [
      "Neutral Document\n"
     ]
    }
   ],
   "source": [
    "\n",
    " positive_words = {\"good\", \"happy\", \"excellent\", \"awesome\", \n",
    "\"fantastic\", \"positive\", \"love\", \"great\", \"nice\", \"amazing\"}\n",
    " negative_words = {\"bad\", \"sad\", \"terrible\", \"awful\", \"worst\", \n",
    "\"negative\", \"hate\", \"poor\", \"horrible\", \"disappointing\"}\n",
    " def classify_document(text):\n",
    "  \n",
    "    words = text.lower().split()\n",
    "    \n",
    "   \n",
    "    positive_count = sum(1 for word in words if word in \n",
    "positive_words)\n",
    "    negative_count = sum(1 for word in words if word in \n",
    "negative_words)\n",
    "    \n",
    "    if positive_count > negative_count:\n",
    "        return \"Positive Document\"\n",
    "    elif negative_count > positive_count:\n",
    "        return \"Negative Document\"\n",
    "    else:\n",
    "        return \"Neutral Document\"\n",
    "\n",
    " document = \"The movie was amazing and fantastic, but had some bad moments.\"\n",
    " result = classify_document(document)\n",
    " print(result)"
   ]
  },
  {
   "cell_type": "code",
   "execution_count": null,
   "id": "acd21f83-3282-4035-8083-d4f781b1d42a",
   "metadata": {},
   "outputs": [],
   "source": []
  }
 ],
 "metadata": {
  "kernelspec": {
   "display_name": "Python 3 (ipykernel)",
   "language": "python",
   "name": "python3"
  },
  "language_info": {
   "codemirror_mode": {
    "name": "ipython",
    "version": 3
   },
   "file_extension": ".py",
   "mimetype": "text/x-python",
   "name": "python",
   "nbconvert_exporter": "python",
   "pygments_lexer": "ipython3",
   "version": "3.12.7"
  }
 },
 "nbformat": 4,
 "nbformat_minor": 5
}
